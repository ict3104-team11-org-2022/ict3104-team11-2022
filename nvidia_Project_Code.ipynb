{
 "cells": [
  {
   "cell_type": "code",
   "execution_count": null,
   "id": "a3e2ed0a",
   "metadata": {},
   "outputs": [],
   "source": [
    "pip install matplotlib==3.5.1"
   ]
  },
  {
   "cell_type": "code",
   "execution_count": null,
   "id": "69b81848",
   "metadata": {},
   "outputs": [],
   "source": [
    "pip install ipywidgets as widgets"
   ]
  },
  {
   "cell_type": "code",
   "execution_count": null,
   "id": "cbfbbf3f",
   "metadata": {},
   "outputs": [],
   "source": [
    "pip install torch==1.10.1"
   ]
  },
  {
   "cell_type": "code",
   "execution_count": null,
   "id": "cc67215a",
   "metadata": {},
   "outputs": [],
   "source": [
    "pip install torchvision==0.11.2"
   ]
  },
  {
   "cell_type": "code",
   "execution_count": null,
   "id": "556577fa",
   "metadata": {},
   "outputs": [],
   "source": [
    "pip install torchaudio==0.10.1"
   ]
  },
  {
   "cell_type": "code",
   "execution_count": 2,
   "id": "320aad09",
   "metadata": {},
   "outputs": [
    {
     "name": "stdout",
     "output_type": "stream",
     "text": [
      "Package            VersionNote: you may need to restart the kernel to use updated packages.\n",
      "\n",
      "------------------ -------\n",
      "asttokens          2.0.8\n",
      "backcall           0.2.0\n",
      "colorama           0.4.5\n",
      "cycler             0.11.0\n",
      "debugpy            1.6.3\n",
      "decorator          5.1.1\n",
      "entrypoints        0.4\n",
      "executing          1.0.0\n",
      "fonttools          4.37.2\n",
      "ipykernel          6.15.3\n",
      "ipython            8.5.0\n",
      "ipywidgets         8.0.2\n",
      "jedi               0.18.1\n",
      "jupyter_client     7.3.5\n",
      "jupyter-core       4.11.1\n",
      "jupyterlab-widgets 3.0.3\n",
      "kiwisolver         1.4.4\n",
      "matplotlib         3.5.1\n",
      "matplotlib-inline  0.1.6\n",
      "nest-asyncio       1.5.5\n",
      "numpy              1.23.3\n",
      "packaging          21.3\n",
      "parso              0.8.3\n",
      "pickleshare        0.7.5\n",
      "Pillow             9.2.0\n",
      "pip                22.2.2\n",
      "prompt-toolkit     3.0.31\n",
      "psutil             5.9.2\n",
      "pure-eval          0.2.2\n",
      "Pygments           2.13.0\n",
      "pyparsing          3.0.9\n",
      "python-dateutil    2.8.2\n",
      "pywin32            304\n",
      "pyzmq              24.0.0\n",
      "setuptools         65.3.0\n",
      "six                1.16.0\n",
      "stack-data         0.5.0\n",
      "torch              1.10.1\n",
      "torchaudio         0.10.1\n",
      "torchvision        0.11.2\n",
      "tornado            6.2\n",
      "traitlets          5.4.0\n",
      "typing_extensions  4.3.0\n",
      "wcwidth            0.2.5\n",
      "wheel              0.37.1\n",
      "widgetsnbextension 4.0.3\n"
     ]
    }
   ],
   "source": [
    "pip list"
   ]
  },
  {
   "cell_type": "code",
   "execution_count": null,
   "id": "dfb4eb38",
   "metadata": {},
   "outputs": [],
   "source": [
    "import matplotlib.pyplot as plt\n",
    "%matplotlib inline\n",
    "import numpy as np\n",
    "#import tensorflow as tf\n",
    "#import lime\n",
    "#import time\n",
    "#import shutil\n",
    "#import random\n",
    "#import csv\n",
    "import os,sys\n",
    "#from skimage.io import imreadcd \n",
    "#from skimage.segmentation import mark_boundaries\n",
    "%load_ext autoreload\n",
    "%autoreload 2\n",
    "\n",
    "#main_dir = os.path.normpath(os.getcwd() + os.sep + os.pardir + os.sep + os.pardir)\n",
    "main_dir = os.getcwd()\n",
    "print(main_dir)"
   ]
  },
  {
   "cell_type": "code",
   "execution_count": null,
   "id": "c31599c7",
   "metadata": {
    "scrolled": true
   },
   "outputs": [],
   "source": [
    "import ipywidgets as widgets\n",
    "from IPython.display import display\n",
    "from ipywidgets import Video\n",
    "import os\n",
    "\n",
    "#To get the current directory and set the path of the folder to the data folder\n",
    "def getDataFolderVideoContent():\n",
    "    current_dir = str(os.getcwd())\n",
    "    data_folder = current_dir + \"\\\\Datasets\\\\Video\"\n",
    "    data_folder_content = []\n",
    "\n",
    "    #Loop through to get all the contents inside the data folder\n",
    "    with os.scandir(data_folder) as entries:\n",
    "        for entry in entries:\n",
    "            data_folder_content.append(entry.name)\n",
    "    \n",
    "    return data_folder_content\n",
    "\n",
    "#Dropdown to display all videos in data folder\n",
    "video_dropdown = widgets.Dropdown(\n",
    "    options = getDataFolderVideoContent(),\n",
    "    description = 'Videos:',\n",
    "    disabled = False,\n",
    ")\n",
    "\n",
    "display(video_dropdown)"
   ]
  },
  {
   "cell_type": "code",
   "execution_count": null,
   "id": "26687381",
   "metadata": {},
   "outputs": [],
   "source": [
    "#Set the selected video to the iPyWidget video function and display the video playback\n",
    "selected_video = Video.from_file('Datasets/Video/' + video_dropdown.value)\n",
    "selected_video"
   ]
  },
  {
   "cell_type": "code",
   "execution_count": null,
   "id": "231c8af3",
   "metadata": {},
   "outputs": [],
   "source": []
  }
 ],
 "metadata": {
  "kernelspec": {
   "display_name": "venv",
   "language": "python",
   "name": "venv"
  },
  "language_info": {
   "codemirror_mode": {
    "name": "ipython",
    "version": 3
   },
   "file_extension": ".py",
   "mimetype": "text/x-python",
   "name": "python",
   "nbconvert_exporter": "python",
   "pygments_lexer": "ipython3",
   "version": "3.8.10"
  }
 },
 "nbformat": 4,
 "nbformat_minor": 5
}
