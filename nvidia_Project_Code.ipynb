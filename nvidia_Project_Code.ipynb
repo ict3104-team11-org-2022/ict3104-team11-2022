{
 "cells": [
  {
   "cell_type": "code",
   "execution_count": null,
   "id": "dfb4eb38",
   "metadata": {},
   "outputs": [],
   "source": [
    "import matplotlib.pyplot as plt\n",
    "%matplotlib inline\n",
    "import numpy as np\n",
    "import tensorflow as tf\n",
    "import lime\n",
    "import time\n",
    "import shutil\n",
    "import random\n",
    "import csv\n",
    "import os,sys\n",
    "from skimage.io import imreadcd \n",
    "from skimage.segmentation import mark_boundaries\n",
    "%load_ext autoreload\n",
    "%autoreload 2\n",
    "\n",
    "#main_dir = os.path.normpath(os.getcwd() + os.sep + os.pardir + os.sep + os.pardir)\n",
    "main_dir = os.getcwd()"
   ]
  }
 ],
 "metadata": {
  "kernelspec": {
   "display_name": "Python 3 (ipykernel)",
   "language": "python",
   "name": "python3"
  },
  "language_info": {
   "codemirror_mode": {
    "name": "ipython",
    "version": 3
   },
   "file_extension": ".py",
   "mimetype": "text/x-python",
   "name": "python",
   "nbconvert_exporter": "python",
   "pygments_lexer": "ipython3",
   "version": "3.9.12"
  }
 },
 "nbformat": 4,
 "nbformat_minor": 5
}
