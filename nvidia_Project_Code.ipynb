{
 "cells": [
  {
   "cell_type": "code",
   "execution_count": null,
   "id": "a3e2ed0a",
   "metadata": {},
   "outputs": [],
   "source": [
    "pip install matplotlib==3.5.1"
   ]
  },
  {
   "cell_type": "code",
   "execution_count": null,
   "id": "69b81848",
   "metadata": {},
   "outputs": [],
   "source": [
    "pip install ipywidgets as widgets"
   ]
  },
  {
   "cell_type": "code",
   "execution_count": null,
   "id": "320aad09",
   "metadata": {},
   "outputs": [],
   "source": [
    "pip list"
   ]
  },
  {
   "cell_type": "code",
   "execution_count": null,
   "id": "dfb4eb38",
   "metadata": {},
   "outputs": [],
   "source": [
    "import matplotlib.pyplot as plt\n",
    "%matplotlib inline\n",
    "import numpy as np\n",
    "#import tensorflow as tf\n",
    "#import lime\n",
    "#import time\n",
    "#import shutil\n",
    "#import random\n",
    "#import csv\n",
    "import os,sys\n",
    "#from skimage.io import imreadcd \n",
    "#from skimage.segmentation import mark_boundaries\n",
    "%load_ext autoreload\n",
    "%autoreload 2\n",
    "\n",
    "#main_dir = os.path.normpath(os.getcwd() + os.sep + os.pardir + os.sep + os.pardir)\n",
    "main_dir = os.getcwd()\n",
    "print(main_dir)"
   ]
  },
  {
   "cell_type": "code",
   "execution_count": 3,
   "id": "c31599c7",
   "metadata": {
    "scrolled": true
   },
   "outputs": [
    {
     "data": {
      "application/vnd.jupyter.widget-view+json": {
       "model_id": "9dcf5eff581a46b19004cbb2b661521b",
       "version_major": 2,
       "version_minor": 0
      },
      "text/plain": [
       "Dropdown(description='Videos:', options=('sample-mp4-file.mp4',), value='sample-mp4-file.mp4')"
      ]
     },
     "metadata": {},
     "output_type": "display_data"
    }
   ],
   "source": [
    "import ipywidgets as widgets\n",
    "from IPython.display import display\n",
    "from ipywidgets import Video\n",
    "import os\n",
    "\n",
    "#To get the current directory and set the path of the folder to the data folder\n",
    "current_dir = str(os.getcwd())\n",
    "data_folder = current_dir + \"\\\\Data\"\n",
    "data_folder_content = []\n",
    "\n",
    "#Loop through to get all the contents inside the data folder\n",
    "with os.scandir(data_folder) as entries:\n",
    "    for entry in entries:\n",
    "        data_folder_content.append(entry.name)\n",
    "\n",
    "#Dropdown to display all videos in data folder\n",
    "video_dropdown = widgets.Dropdown(\n",
    "    options = data_folder_content,\n",
    "    description = 'Videos:',\n",
    "    disabled = False,\n",
    ")\n",
    "\n",
    "display(video_dropdown)"
   ]
  },
  {
   "cell_type": "code",
   "execution_count": 4,
   "id": "26687381",
   "metadata": {},
   "outputs": [
    {
     "data": {
      "application/vnd.jupyter.widget-view+json": {
       "model_id": "a60af28b52b1484aa8471ef9b473cbb2",
       "version_major": 2,
       "version_minor": 0
      },
      "text/plain": [
       "Video(value=b'\\x00\\x00\\x00 ftypisom\\x00\\x00\\x02\\x00isomiso2avc1mp41\\x00\\x00\\x00\\x08free...')"
      ]
     },
     "execution_count": 4,
     "metadata": {},
     "output_type": "execute_result"
    }
   ],
   "source": [
    "#Set the selected video to the iPyWidget video function and display the video playback\n",
    "selected_video = Video.from_file('Data/' + video_dropdown.value)\n",
    "selected_video"
   ]
  },
  {
   "cell_type": "code",
   "execution_count": null,
   "id": "231c8af3",
   "metadata": {},
   "outputs": [],
   "source": []
  }
 ],
 "metadata": {
  "kernelspec": {
   "display_name": "venv",
   "language": "python",
   "name": "venv"
  },
  "language_info": {
   "codemirror_mode": {
    "name": "ipython",
    "version": 3
   },
   "file_extension": ".py",
   "mimetype": "text/x-python",
   "name": "python",
   "nbconvert_exporter": "python",
   "pygments_lexer": "ipython3",
   "version": "3.8.10"
  }
 },
 "nbformat": 4,
 "nbformat_minor": 5
}
