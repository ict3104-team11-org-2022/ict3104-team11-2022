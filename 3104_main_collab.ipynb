{
  "nbformat": 4,
  "nbformat_minor": 0,
  "metadata": {
    "colab": {
      "provenance": [],
      "collapsed_sections": []
    },
    "kernelspec": {
      "name": "python3",
      "display_name": "Python 3"
    },
    "language_info": {
      "name": "python"
    }
  },
  "cells": [
    {
      "cell_type": "code",
      "execution_count": null,
      "metadata": {
        "id": "BJoukDYFYWif",
        "colab": {
          "base_uri": "https://localhost:8080/"
        },
        "outputId": "a1f69a1e-e823-4886-a850-a4cee3bd36d7"
      },
      "outputs": [
        {
          "output_type": "stream",
          "name": "stdout",
          "text": [
            "/content\n"
          ]
        }
      ],
      "source": [
        "import matplotlib.pyplot as plt\n",
        "%matplotlib inline\n",
        "import numpy as np\n",
        "import tensorflow as tf\n",
        "import time\n",
        "import shutil\n",
        "import random\n",
        "import csv\n",
        "import os,sys\n",
        "%load_ext autoreload\n",
        "%autoreload 2\n",
        "\n",
        "#main_dir = os.path.normpath(os.getcwd() + os.sep + os.pardir + os.sep + os.pardir)\n",
        "main_dir = os.getcwd()\n",
        "print(main_dir)"
      ]
    }
  ]
}