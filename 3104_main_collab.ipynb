{
  "cells": [
    {
      "cell_type": "code",
      "execution_count": null,
      "metadata": {
        "colab": {
          "base_uri": "https://localhost:8080/"
        },
        "id": "BJoukDYFYWif",
        "outputId": "a1f69a1e-e823-4886-a850-a4cee3bd36d7"
      },
      "outputs": [
        {
          "name": "stdout",
          "output_type": "stream",
          "text": [
            "/content\n"
          ]
        }
      ],
      "source": [
        "import matplotlib.pyplot as plt\n",
        "%matplotlib inline\n",
        "import numpy as np\n",
        "import tensorflow as tf\n",
        "import time\n",
        "import shutil\n",
        "import random\n",
        "import csv\n",
        "import os,sys\n",
        "%load_ext autoreload\n",
        "%autoreload 2\n",
        "\n",
        "#main_dir = os.path.normpath(os.getcwd() + os.sep + os.pardir + os.sep + os.pardir)\n",
        "main_dir = os.getcwd()\n",
        "print(main_dir)\n",
        "print(\"create new branch\")"
      ]
    }
  ],
  "metadata": {
    "colab": {
      "collapsed_sections": [],
      "provenance": []
    },
    "kernelspec": {
      "display_name": "Python 3",
      "name": "python3"
    },
    "language_info": {
      "name": "python"
    }
  },
  "nbformat": 4,
  "nbformat_minor": 0
}
