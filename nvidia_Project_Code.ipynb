{
 "cells": [
  {
   "cell_type": "code",
   "execution_count": null,
   "id": "a3e2ed0a",
   "metadata": {},
   "outputs": [],
   "source": [
    "pip install matplotlib==3.5.1"
   ]
  },
  {
   "cell_type": "code",
   "execution_count": 2,
   "id": "dfb4eb38",
   "metadata": {},
   "outputs": [
    {
     "name": "stdout",
     "output_type": "stream",
     "text": [
      "E:\\Dev\\SIT\\3104\\test repo\\ict3104-team11-2022\n"
     ]
    }
   ],
   "source": [
    "import matplotlib.pyplot as plt\n",
    "%matplotlib inline\n",
    "import numpy as np\n",
    "#import tensorflow as tf\n",
    "#import lime\n",
    "#import time\n",
    "#import shutil\n",
    "#import random\n",
    "#import csv\n",
    "import os,sys\n",
    "#from skimage.io import imreadcd \n",
    "#from skimage.segmentation import mark_boundaries\n",
    "%load_ext autoreload\n",
    "%autoreload 2\n",
    "\n",
    "#main_dir = os.path.normpath(os.getcwd() + os.sep + os.pardir + os.sep + os.pardir)\n",
    "main_dir = os.getcwd()\n",
    "print(main_dir)"
   ]
  },
  {
   "cell_type": "code",
   "execution_count": null,
   "id": "c31599c7",
   "metadata": {},
   "outputs": [],
   "source": []
  }
 ],
 "metadata": {
  "kernelspec": {
   "display_name": "Python 3 (ipykernel)",
   "language": "python",
   "name": "python3"
  },
  "language_info": {
   "codemirror_mode": {
    "name": "ipython",
    "version": 3
   },
   "file_extension": ".py",
   "mimetype": "text/x-python",
   "name": "python",
   "nbconvert_exporter": "python",
   "pygments_lexer": "ipython3",
   "version": "3.10.5"
  }
 },
 "nbformat": 4,
 "nbformat_minor": 5
}
