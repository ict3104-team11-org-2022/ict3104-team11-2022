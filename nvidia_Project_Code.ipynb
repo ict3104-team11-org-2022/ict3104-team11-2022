{
  "cells": [
    {
      "cell_type": "code",
      "execution_count": null,
      "metadata": {
        "colab": {
          "base_uri": "https://localhost:8080/"
        },
        "id": "BJoukDYFYWif",
        "outputId": "6f6b17c2-ffa8-4670-91b0-6915add0e080"
      },
      "outputs": [
        {
          "name": "stdout",
          "output_type": "stream",
          "text": [
            "Cloning into 'Toyota_Smarthome'...\n",
            "remote: Enumerating objects: 470, done.\u001b[K\n",
            "remote: Counting objects: 100% (100/100), done.\u001b[K\n",
            "remote: Compressing objects: 100% (98/98), done.\u001b[K\n",
            "remote: Total 470 (delta 63), reused 1 (delta 0), pack-reused 370\u001b[K\n",
            "Receiving objects: 100% (470/470), 28.34 MiB | 17.87 MiB/s, done.\n",
            "Resolving deltas: 100% (240/240), done.\n"
          ]
        }
      ],
      "source": [
        "#Clone the Toyota Smarthome repository\n",
        "!git clone https://github.com/dairui01/Toyota_Smarthome.git"
      ]
    },
    {
      "cell_type": "code",
      "execution_count": null,
      "metadata": {
        "id": "VqJHkBCzzAnR"
      },
      "outputs": [],
      "source": [
        "pip install torch==1.10.1+cu111 torchvision==0.11.2 torchaudio==0.10.1 -f https://download.pytorch.org/whl/torch_stable.html"
      ]
    },
    {
      "cell_type": "code",
      "execution_count": null,
      "metadata": {
        "id": "PbXBrINSzAxH"
      },
      "outputs": [],
      "source": [
        "pip install timm==0.4.12 scikit-learn"
      ]
    },
    {
      "cell_type": "code",
      "execution_count": null,
      "metadata": {
        "id": "cjX2hMpyG7AF"
      },
      "outputs": [],
      "source": [
        "#To mount your own google drive to put in the edited train.py and TSU_RGB_i3d_feat.zip to the file\n",
        "#Need to ensure that the 2 files (train.py and TSU_RGB_i3d_feat.zip) in your google drive root folder\n",
        "#Also create the directories accordingly\n",
        "from google.colab import drive\n",
        "drive.mount('/content/drive/')\n",
        "\n",
        "!unzip /content/drive/My\\ Drive/3104Resources/TSU_RGB_i3d_feat\n",
        "!mkdir TSU_RGB_i3d_feat\n",
        "!mkdir -p /content/Toyota_Smarthome/pipline/Datasets/Video\n",
        "!mkdir /content/Toyota_Smarthome/pipline/Datasets/PreTrainModel\n",
        "!mkdir /content/Toyota_Smarthome/pipline/Datasets/TrainedModel\n",
        "!mkdir -p /content/Toyota_Smarthome/pipline/Datasets/TrainedModel/PDAN\n",
        "!mv /content/RGB_i3d_16frames_64000_SSD TSU_RGB_i3d_feat\n",
        "!mv /content/TSU_RGB_i3d_feat /content/Toyota_Smarthome/pipline/\n",
        "!cp /content/drive/My\\ Drive/3104Resources/PDAN_TSU_RGB /content/Toyota_Smarthome/pipline/Datasets/PreTrainModel\n",
        "!cp -f /content/drive/My\\ Drive/3104Resources/train.py /content/Toyota_Smarthome/pipline/train.py\n",
        "!cp /content/drive/My\\ Drive/3104Resources/sample-mp4-file.mp4 /content/Toyota_Smarthome/pipline/Datasets/Video"
      ]
    },
    {
      "cell_type": "markdown",
      "metadata": {
        "id": "Sj-_dG37zJmL"
      },
      "source": [
        "<h1> Function: View the video playback of the selected video inside the Datasets Folder. </h1>"
      ]
    },
    {
      "cell_type": "code",
      "execution_count": null,
      "metadata": {
        "id": "3OxpdODnM1xc"
      },
      "outputs": [],
      "source": [
        "import os\n",
        "import ipywidgets as widgets\n",
        "from IPython.display import display\n",
        "from ipywidgets import Video\n",
        "\n",
        "#To get the current directory and set the path of the folder to the data folder\n",
        "def getDatasetFolderVideoContent():\n",
        "    current_dir = str(os.getcwd())\n",
        "    data_folder = current_dir + \"/Toyota_Smarthome/pipline/Datasets/Video\"\n",
        "    data_folder_content = []\n",
        "\n",
        "    #Loop through to get all the contents inside the data folder\n",
        "    with os.scandir(data_folder) as entries:\n",
        "        for entry in entries:\n",
        "            data_folder_content.append(entry.name)\n",
        "    \n",
        "    return data_folder_content\n",
        "\n",
        "#Dropdown to display all videos in data folder\n",
        "video_dropdown = widgets.Dropdown(\n",
        "    options = getDatasetFolderVideoContent(),\n",
        "    description = 'Videos:',\n",
        "    disabled = False,\n",
        ")\n",
        "\n",
        "display(video_dropdown)\n"
      ]
    },
    {
      "cell_type": "code",
      "execution_count": null,
      "metadata": {
        "colab": {
          "background_save": true,
          "referenced_widgets": [
            "2f482f04d0594d5a98aacb20c69d7c25"
          ]
        },
        "id": "JBz-qPK7enY0",
        "outputId": "1bf22ce9-31fa-4f8d-eacd-283b5f17dbd2"
      },
      "outputs": [
        {
          "data": {
            "application/vnd.jupyter.widget-view+json": {
              "model_id": "2f482f04d0594d5a98aacb20c69d7c25",
              "version_major": 2,
              "version_minor": 0
            },
            "text/plain": [
              "Video(value=b'\\x00\\x00\\x00 ftypisom\\x00\\x00\\x02\\x00isomiso2avc1mp41\\x00\\x00\\x00\\x08free\\x00\\xa0\\x1dTmdat\\x01\\x…"
            ]
          },
          "metadata": {},
          "output_type": "display_data"
        }
      ],
      "source": [
        "#Set the selected video to the iPyWidget video function and display the video playback\n",
        "selected_video = Video.from_file('/content/Toyota_Smarthome/pipline/Datasets/Video/' + video_dropdown.value)\n",
        "selected_video"
      ]
    },
    {
      "cell_type": "markdown",
      "metadata": {
        "id": "y9w1Dv6szY_u"
      },
      "source": [
        "<h1>Model Training Sequence</h1>"
      ]
    },
    {
      "cell_type": "code",
      "source": [
        "#model labelling function\n",
        "def label_model_name(modelName, dataName):\n",
        "  # removes file extensions\n",
        "  extractModelFileName = modelName.split(\".\", 1)[0]\n",
        "  extractDataFileName = dataName.split(\".\", 1)[0]\n",
        "\n",
        "  # removes spaces\n",
        "  strippedModelName = extractModelFileName.replace(\" \", \"\")\n",
        "  strippedDataName = extractDataFileName.replace(\" \", \"\")\n",
        "\n",
        "  # combines both model and data name , e.g. tsu_data1\n",
        "  newLabel = strippedModelName + \"_\" + strippedDataName\n",
        "\n",
        "  return newLabel"
      ],
      "metadata": {
        "id": "UyETzk5R26XJ"
      },
      "execution_count": null,
      "outputs": []
    },
    {
      "cell_type": "code",
      "execution_count": null,
      "metadata": {
        "id": "IJkNtT0HgHcq"
      },
      "outputs": [],
      "source": [
        "from ipywidgets import Layout, interact, interact_manual, fixed\n",
        "import IPython.display as display\n",
        "from IPython.display import clear_output\n",
        "\n",
        "def on_button_clicked(b):\n",
        "    batch_size_value = batch_size.value\n",
        "    epoch_value = epoch.value\n",
        "    argv_dict[\"batch_size\"] = batch_size_value\n",
        "    argv_dict[\"epoch\"] = epoch_value\n",
        "    print(\"Values Set: \")\n",
        "    print(\"Batch Size: \", batch_size_value)\n",
        "    print(\"Epoch: \", epoch_value)\n",
        "    print(\"Pre Train Model Selected: \", pretrainedModel.value)\n",
        "\n",
        "def on_clear_clicked(b):\n",
        "    clear_output(wait=False)\n",
        "\n",
        "def sidebyside(list1):\n",
        "  side2side = widgets.HBox(list1)\n",
        "  display.display(side2side)\n",
        "  return list1\n",
        "\n",
        "def batchButtonClick(side2side):\n",
        "  button.on_click(on_button_clicked)\n",
        "  clear.on_click(on_clear_clicked)\n",
        "\n",
        "def getDatasetFolderPreTrainModel():\n",
        "    current_dir = str(os.getcwd())\n",
        "    data_folder = current_dir + \"/Toyota_Smarthome/pipline/Datasets/PreTrainModel\"\n",
        "    data_folder_content = []\n",
        "\n",
        "    #Loop through to get all the contents inside the data folder\n",
        "    with os.scandir(data_folder) as entries:\n",
        "        for entry in entries:\n",
        "            data_folder_content.append(entry.name)\n",
        "    \n",
        "    return data_folder_content"
      ]
    },
    {
      "cell_type": "code",
      "execution_count": null,
      "metadata": {
        "id": "CVmx6ldduX6b"
      },
      "outputs": [],
      "source": [
        "argv_dict = {}\n",
        "flag = False\n",
        "\n",
        "epoch = widgets.IntSlider(\n",
        "    value=20,\n",
        "    min=5,\n",
        "    max=100,\n",
        "    step=5,\n",
        "    description='Epoch:',\n",
        "    disabled=False,\n",
        "    continuous_update=True,\n",
        "    orientation='horizontal',\n",
        "    readout=True,\n",
        "    readout_format='d'\n",
        ")\n",
        "\n",
        "batch_size = widgets.Dropdown(\n",
        "    value = '1',\n",
        "    placeholder='Choose Batch Size',\n",
        "    options=['1','2', '4', '8', '16', '32', '64'],\n",
        "    description='batch_size:',\n",
        "    ensure_option=True,\n",
        "    disabled=False\n",
        ")\n",
        "\n",
        "pretrainedModel = widgets.Dropdown(\n",
        "    options = getDatasetFolderPreTrainModel(),\n",
        "    description = 'Pretrain Models:',\n",
        "    disabled = False,\n",
        ")\n",
        "\n",
        "\n",
        "button = widgets.Button(description=\"Add\",icon='check', command=on_button_clicked)\n",
        "clear = widgets.Button(description=\"Clear\",icon='check', command=on_clear_clicked)\n"
      ]
    },
    {
      "cell_type": "code",
      "execution_count": null,
      "metadata": {
        "id": "3naqbUBSuYCu"
      },
      "outputs": [],
      "source": [
        "#Change directory to pipline directory to run the training sequence and change back to root directory\n",
        "os.getcwd()\n",
        "os.chdir('/content/Toyota_Smarthome/pipline')\n",
        "pretrained_model = \"Datasets/PreTrainModel/\" + pretrainedModel.value\n",
        "user_input_epoch = argv_dict[\"epoch\"]\n",
        "user_input_batch_size = argv_dict[\"batch_size\"]\n",
        "\n",
        "!python train.py -dataset TSU -mode rgb -split_setting CS -model PDAN -train True -num_channel 512 -lr 0.0002 -kernelsize 3 -APtype map -epoch $user_input_epoch -batch_size $user_input_batch_size -comp_info TSU_CS_RGB_PDAN -load_model ./{pretrained_model} \n",
        "os.chdir('/content')"
      ]
    }
  ],
  "metadata": {
    "accelerator": "GPU",
    "colab": {
      "collapsed_sections": [],
      "provenance": []
    },
    "kernelspec": {
      "display_name": "Python 3",
      "name": "python3"
    },
    "language_info": {
      "name": "python"
    }
  },
  "nbformat": 4,
  "nbformat_minor": 0
}