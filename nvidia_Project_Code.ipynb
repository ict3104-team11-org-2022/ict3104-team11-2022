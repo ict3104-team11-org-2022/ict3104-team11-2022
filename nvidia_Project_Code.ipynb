{
 "cells": [
  {
   "cell_type": "code",
   "execution_count": 3,
   "metadata": {
    "colab": {
     "base_uri": "https://localhost:8080/"
    },
    "id": "BJoukDYFYWif",
    "outputId": "f28f897c-f95a-4831-8ac5-6f9b7233ff77"
   },
   "outputs": [
    {
     "name": "stdout",
     "output_type": "stream",
     "text": [
      "D:\\3104Project\\ict3104-team11-2022\n"
     ]
    }
   ],
   "source": [
    "import matplotlib.pyplot as plt\n",
    "%matplotlib inline\n",
    "import numpy as np\n",
    "import time\n",
    "import shutil\n",
    "import random\n",
    "import csv\n",
    "import os,sys\n",
    "import ipywidgets as widgets\n",
    "from ipywidgets import Layout, interact, interact_manual, fixed\n",
    "import IPython.display as display\n",
    "from IPython.display import clear_output\n",
    "import pandas as pd\n",
    "from tabulate import tabulate\n",
    "%load_ext autoreload\n",
    "%autoreload 2\n",
    "\n",
    "#main_dir = os.path.normpath(os.getcwd() + os.sep + os.pardir + os.sep + os.pardir)\n",
    "main_dir = os.getcwd()\n",
    "print(main_dir)"
   ]
  },
  {
   "cell_type": "code",
   "execution_count": 4,
   "metadata": {
    "id": "cjX2hMpyG7AF"
   },
   "outputs": [],
   "source": [
    "def on_button_clicked(b):\n",
    "    batch_size_value = int(batch_size.value)\n",
    "    epoch_value = epoch.value\n",
    "    argv_dict[\"batch_size\"] = batch_size_value\n",
    "    argv_dict[\"epoch\"] = epoch_value\n",
    "    print(\"Values Set: \")\n",
    "    print(\"Batch Size: \", batch_size_value)\n",
    "    print(\"Epoch: \", epoch_value)\n",
    "\n",
    "def on_clear_clicked(b):\n",
    "    clear_output(wait=False)\n",
    "\n",
    "def sidebyside(list1):\n",
    "  side2side = widgets.HBox(list1)\n",
    "  display.display(side2side)\n",
    "  return list1\n",
    "\n",
    "def batchButtonClick(side2side):\n",
    "  button.on_click(on_button_clicked)\n",
    "  clear.on_click(on_clear_clicked)"
   ]
  },
  {
   "cell_type": "code",
   "execution_count": 9,
   "metadata": {
    "id": "3OxpdODnM1xc"
   },
   "outputs": [],
   "source": [
    "argv_dict = {}\n",
    "flag = False\n",
    "\n",
    "epoch = widgets.IntSlider(\n",
    "    value=20,\n",
    "    min=5,\n",
    "    max=100,\n",
    "    step=5,\n",
    "    description='Epoch:',\n",
    "    disabled=False,\n",
    "    continuous_update=True,\n",
    "    orientation='horizontal',\n",
    "    readout=True,\n",
    "    readout_format='d'\n",
    ")\n",
    "\n",
    "batch_size = widgets.Dropdown(\n",
    "    value = '2',\n",
    "    placeholder='Choose Batch Size',\n",
    "    options=['2', '4', '8', '16', '32', '64'],\n",
    "    description='batch_size:',\n",
    "    ensure_option=True,\n",
    "    disabled=False\n",
    ")\n",
    "\n",
    "\n",
    "button = widgets.Button(description=\"Add\",icon='check', command=on_button_clicked)\n",
    "clear = widgets.Button(description=\"Clear\",icon='clear', command=on_clear_clicked)"
   ]
  },
  {
   "cell_type": "code",
   "execution_count": 10,
   "metadata": {
    "colab": {
     "base_uri": "https://localhost:8080/",
     "height": 101,
     "referenced_widgets": [
      "8f6e69c994ba42fe86d6f4332e2eeaeb",
      "5f3899b9b6f34e99b281bb76d625199b",
      "61cce116e0d045188f4f3c0063a8ee02",
      "ea22ab840d3e44eba22822bc4ecb1aab",
      "aec179e1057e492b92b45e63a0a6851e",
      "5e6e468be5284f1aa7a46ca520b2d056",
      "28b6c573bb8440668542cada83923fbb",
      "897dfdb3b4cc4f08abefa62103b4461a",
      "f01f3095481a4243b928d0f39e082f36",
      "787a6d05bfc04b14b7ed8527e318d994",
      "d84c41be5cf749fe8128932a911a1a80",
      "2b4cbfe7c5a34502b05269977f681c9f",
      "833735c1442042cda0795d9dbebba145",
      "2e0faf6f7540426bacc294e7a215bd42"
     ]
    },
    "id": "JBz-qPK7enY0",
    "outputId": "c15a6989-984e-4475-d0f3-f89460c766d3"
   },
   "outputs": [
    {
     "data": {
      "application/vnd.jupyter.widget-view+json": {
       "model_id": "f81e789ec90b41329bd4436c58af65a9",
       "version_major": 2,
       "version_minor": 0
      },
      "text/plain": [
       "HBox(children=(Dropdown(description='batch_size:', options=('2', '4', '8', '16', '32', '64'), value='2'), IntS…"
      ]
     },
     "metadata": {},
     "output_type": "display_data"
    },
    {
     "name": "stdout",
     "output_type": "stream",
     "text": [
      "Values Set: \n",
      "Batch Size:  8\n",
      "Epoch:  20\n"
     ]
    }
   ],
   "source": [
    "batchButtonClick(sidebyside([batch_size, epoch, button, clear]))"
   ]
  },
  {
   "cell_type": "code",
   "execution_count": 11,
   "metadata": {
    "colab": {
     "base_uri": "https://localhost:8080/"
    },
    "id": "IJkNtT0HgHcq",
    "outputId": "1f06fed9-d672-4b6d-86fa-38907502a06c"
   },
   "outputs": [
    {
     "name": "stdout",
     "output_type": "stream",
     "text": [
      "{'batch_size': 8, 'epoch': 20}\n",
      "8\n"
     ]
    }
   ],
   "source": [
    "print(argv_dict)\n",
    "print(argv_dict[\"batch_size\"])"
   ]
  },
  {
   "cell_type": "code",
   "execution_count": null,
   "metadata": {
    "id": "CVmx6ldduX6b"
   },
   "outputs": [],
   "source": [
    "#To get the current directory and set the path of the folder to the data folder\n",
    "#To get the current directory and set the path of the folder to the data folder\n",
    "def getDataFolderVideoContent():\n",
    "    current_dir = str(os.getcwd())\n",
    "    data_folder = current_dir + \"\\\\Datasets\\\\Video\"\n",
    "    data_folder_content = []\n",
    "\n",
    "    #Loop through to get all the contents inside the data folder\n",
    "    with os.scandir(data_folder) as entries:\n",
    "        for entry in entries:\n",
    "            data_folder_content.append(entry.name)\n",
    "    \n",
    "    return data_folder_content\n",
    "\n",
    "#Dropdown to display all videos in data folder\n",
    "video_dropdown = widgets.Dropdown(\n",
    "    options = getDataFolderVideoContent(),\n",
    "    description = 'Videos:',\n",
    "    disabled = False,\n",
    ")\n",
    "\n",
    "display(video_dropdown)"
   ]
  },
  {
   "cell_type": "code",
   "execution_count": null,
   "metadata": {
    "id": "3naqbUBSuYCu"
   },
   "outputs": [],
   "source": [
    "#Set the selected video to the iPyWidget video function and display the video playback\n",
    "selected_video = Video.from_file('Datasets/Video/' + video_dropdown.value)\n",
    "selected_video"
   ]
  }
 ],
 "metadata": {
  "colab": {
   "collapsed_sections": [],
   "provenance": []
  },
  "kernelspec": {
   "display_name": "Python 3 (ipykernel)",
   "language": "python",
   "name": "python3"
  },
  "language_info": {
   "codemirror_mode": {
    "name": "ipython",
    "version": 3
   },
   "file_extension": ".py",
   "mimetype": "text/x-python",
   "name": "python",
   "nbconvert_exporter": "python",
   "pygments_lexer": "ipython3",
   "version": "3.9.12"
  },
  "widgets": {
   "application/vnd.jupyter.widget-state+json": {
    "28b6c573bb8440668542cada83923fbb": {
     "model_module": "@jupyter-widgets/base",
     "model_module_version": "1.2.0",
     "model_name": "LayoutModel",
     "state": {
      "_model_module": "@jupyter-widgets/base",
      "_model_module_version": "1.2.0",
      "_model_name": "LayoutModel",
      "_view_count": null,
      "_view_module": "@jupyter-widgets/base",
      "_view_module_version": "1.2.0",
      "_view_name": "LayoutView",
      "align_content": null,
      "align_items": null,
      "align_self": null,
      "border": null,
      "bottom": null,
      "display": null,
      "flex": null,
      "flex_flow": null,
      "grid_area": null,
      "grid_auto_columns": null,
      "grid_auto_flow": null,
      "grid_auto_rows": null,
      "grid_column": null,
      "grid_gap": null,
      "grid_row": null,
      "grid_template_areas": null,
      "grid_template_columns": null,
      "grid_template_rows": null,
      "height": null,
      "justify_content": null,
      "justify_items": null,
      "left": null,
      "margin": null,
      "max_height": null,
      "max_width": null,
      "min_height": null,
      "min_width": null,
      "object_fit": null,
      "object_position": null,
      "order": null,
      "overflow": null,
      "overflow_x": null,
      "overflow_y": null,
      "padding": null,
      "right": null,
      "top": null,
      "visibility": null,
      "width": null
     }
    },
    "2b4cbfe7c5a34502b05269977f681c9f": {
     "model_module": "@jupyter-widgets/controls",
     "model_module_version": "1.5.0",
     "model_name": "ButtonStyleModel",
     "state": {
      "_model_module": "@jupyter-widgets/controls",
      "_model_module_version": "1.5.0",
      "_model_name": "ButtonStyleModel",
      "_view_count": null,
      "_view_module": "@jupyter-widgets/base",
      "_view_module_version": "1.2.0",
      "_view_name": "StyleView",
      "button_color": null,
      "font_weight": ""
     }
    },
    "2e0faf6f7540426bacc294e7a215bd42": {
     "model_module": "@jupyter-widgets/controls",
     "model_module_version": "1.5.0",
     "model_name": "ButtonStyleModel",
     "state": {
      "_model_module": "@jupyter-widgets/controls",
      "_model_module_version": "1.5.0",
      "_model_name": "ButtonStyleModel",
      "_view_count": null,
      "_view_module": "@jupyter-widgets/base",
      "_view_module_version": "1.2.0",
      "_view_name": "StyleView",
      "button_color": null,
      "font_weight": ""
     }
    },
    "5e6e468be5284f1aa7a46ca520b2d056": {
     "model_module": "@jupyter-widgets/base",
     "model_module_version": "1.2.0",
     "model_name": "LayoutModel",
     "state": {
      "_model_module": "@jupyter-widgets/base",
      "_model_module_version": "1.2.0",
      "_model_name": "LayoutModel",
      "_view_count": null,
      "_view_module": "@jupyter-widgets/base",
      "_view_module_version": "1.2.0",
      "_view_name": "LayoutView",
      "align_content": null,
      "align_items": null,
      "align_self": null,
      "border": null,
      "bottom": null,
      "display": null,
      "flex": null,
      "flex_flow": null,
      "grid_area": null,
      "grid_auto_columns": null,
      "grid_auto_flow": null,
      "grid_auto_rows": null,
      "grid_column": null,
      "grid_gap": null,
      "grid_row": null,
      "grid_template_areas": null,
      "grid_template_columns": null,
      "grid_template_rows": null,
      "height": null,
      "justify_content": null,
      "justify_items": null,
      "left": null,
      "margin": null,
      "max_height": null,
      "max_width": null,
      "min_height": null,
      "min_width": null,
      "object_fit": null,
      "object_position": null,
      "order": null,
      "overflow": null,
      "overflow_x": null,
      "overflow_y": null,
      "padding": null,
      "right": null,
      "top": null,
      "visibility": null,
      "width": null
     }
    },
    "5f3899b9b6f34e99b281bb76d625199b": {
     "model_module": "@jupyter-widgets/controls",
     "model_module_version": "1.5.0",
     "model_name": "DropdownModel",
     "state": {
      "_dom_classes": [],
      "_model_module": "@jupyter-widgets/controls",
      "_model_module_version": "1.5.0",
      "_model_name": "DropdownModel",
      "_options_labels": [
       "2",
       "4",
       "8",
       "16",
       "32",
       "64"
      ],
      "_view_count": null,
      "_view_module": "@jupyter-widgets/controls",
      "_view_module_version": "1.5.0",
      "_view_name": "DropdownView",
      "description": "batch_size:",
      "description_tooltip": null,
      "disabled": false,
      "index": 1,
      "layout": "IPY_MODEL_28b6c573bb8440668542cada83923fbb",
      "style": "IPY_MODEL_897dfdb3b4cc4f08abefa62103b4461a"
     }
    },
    "61cce116e0d045188f4f3c0063a8ee02": {
     "model_module": "@jupyter-widgets/controls",
     "model_module_version": "1.5.0",
     "model_name": "IntSliderModel",
     "state": {
      "_dom_classes": [],
      "_model_module": "@jupyter-widgets/controls",
      "_model_module_version": "1.5.0",
      "_model_name": "IntSliderModel",
      "_view_count": null,
      "_view_module": "@jupyter-widgets/controls",
      "_view_module_version": "1.5.0",
      "_view_name": "IntSliderView",
      "continuous_update": true,
      "description": "Epoch:",
      "description_tooltip": null,
      "disabled": false,
      "layout": "IPY_MODEL_f01f3095481a4243b928d0f39e082f36",
      "max": 100,
      "min": 5,
      "orientation": "horizontal",
      "readout": true,
      "readout_format": "d",
      "step": 5,
      "style": "IPY_MODEL_787a6d05bfc04b14b7ed8527e318d994",
      "value": 55
     }
    },
    "787a6d05bfc04b14b7ed8527e318d994": {
     "model_module": "@jupyter-widgets/controls",
     "model_module_version": "1.5.0",
     "model_name": "SliderStyleModel",
     "state": {
      "_model_module": "@jupyter-widgets/controls",
      "_model_module_version": "1.5.0",
      "_model_name": "SliderStyleModel",
      "_view_count": null,
      "_view_module": "@jupyter-widgets/base",
      "_view_module_version": "1.2.0",
      "_view_name": "StyleView",
      "description_width": "",
      "handle_color": null
     }
    },
    "833735c1442042cda0795d9dbebba145": {
     "model_module": "@jupyter-widgets/base",
     "model_module_version": "1.2.0",
     "model_name": "LayoutModel",
     "state": {
      "_model_module": "@jupyter-widgets/base",
      "_model_module_version": "1.2.0",
      "_model_name": "LayoutModel",
      "_view_count": null,
      "_view_module": "@jupyter-widgets/base",
      "_view_module_version": "1.2.0",
      "_view_name": "LayoutView",
      "align_content": null,
      "align_items": null,
      "align_self": null,
      "border": null,
      "bottom": null,
      "display": null,
      "flex": null,
      "flex_flow": null,
      "grid_area": null,
      "grid_auto_columns": null,
      "grid_auto_flow": null,
      "grid_auto_rows": null,
      "grid_column": null,
      "grid_gap": null,
      "grid_row": null,
      "grid_template_areas": null,
      "grid_template_columns": null,
      "grid_template_rows": null,
      "height": null,
      "justify_content": null,
      "justify_items": null,
      "left": null,
      "margin": null,
      "max_height": null,
      "max_width": null,
      "min_height": null,
      "min_width": null,
      "object_fit": null,
      "object_position": null,
      "order": null,
      "overflow": null,
      "overflow_x": null,
      "overflow_y": null,
      "padding": null,
      "right": null,
      "top": null,
      "visibility": null,
      "width": null
     }
    },
    "897dfdb3b4cc4f08abefa62103b4461a": {
     "model_module": "@jupyter-widgets/controls",
     "model_module_version": "1.5.0",
     "model_name": "DescriptionStyleModel",
     "state": {
      "_model_module": "@jupyter-widgets/controls",
      "_model_module_version": "1.5.0",
      "_model_name": "DescriptionStyleModel",
      "_view_count": null,
      "_view_module": "@jupyter-widgets/base",
      "_view_module_version": "1.2.0",
      "_view_name": "StyleView",
      "description_width": ""
     }
    },
    "8f6e69c994ba42fe86d6f4332e2eeaeb": {
     "model_module": "@jupyter-widgets/controls",
     "model_module_version": "1.5.0",
     "model_name": "HBoxModel",
     "state": {
      "_dom_classes": [],
      "_model_module": "@jupyter-widgets/controls",
      "_model_module_version": "1.5.0",
      "_model_name": "HBoxModel",
      "_view_count": null,
      "_view_module": "@jupyter-widgets/controls",
      "_view_module_version": "1.5.0",
      "_view_name": "HBoxView",
      "box_style": "",
      "children": [
       "IPY_MODEL_5f3899b9b6f34e99b281bb76d625199b",
       "IPY_MODEL_61cce116e0d045188f4f3c0063a8ee02",
       "IPY_MODEL_ea22ab840d3e44eba22822bc4ecb1aab",
       "IPY_MODEL_aec179e1057e492b92b45e63a0a6851e"
      ],
      "layout": "IPY_MODEL_5e6e468be5284f1aa7a46ca520b2d056"
     }
    },
    "aec179e1057e492b92b45e63a0a6851e": {
     "model_module": "@jupyter-widgets/controls",
     "model_module_version": "1.5.0",
     "model_name": "ButtonModel",
     "state": {
      "_dom_classes": [],
      "_model_module": "@jupyter-widgets/controls",
      "_model_module_version": "1.5.0",
      "_model_name": "ButtonModel",
      "_view_count": null,
      "_view_module": "@jupyter-widgets/controls",
      "_view_module_version": "1.5.0",
      "_view_name": "ButtonView",
      "button_style": "",
      "description": "Clear",
      "disabled": false,
      "icon": "check",
      "layout": "IPY_MODEL_833735c1442042cda0795d9dbebba145",
      "style": "IPY_MODEL_2e0faf6f7540426bacc294e7a215bd42",
      "tooltip": ""
     }
    },
    "d84c41be5cf749fe8128932a911a1a80": {
     "model_module": "@jupyter-widgets/base",
     "model_module_version": "1.2.0",
     "model_name": "LayoutModel",
     "state": {
      "_model_module": "@jupyter-widgets/base",
      "_model_module_version": "1.2.0",
      "_model_name": "LayoutModel",
      "_view_count": null,
      "_view_module": "@jupyter-widgets/base",
      "_view_module_version": "1.2.0",
      "_view_name": "LayoutView",
      "align_content": null,
      "align_items": null,
      "align_self": null,
      "border": null,
      "bottom": null,
      "display": null,
      "flex": null,
      "flex_flow": null,
      "grid_area": null,
      "grid_auto_columns": null,
      "grid_auto_flow": null,
      "grid_auto_rows": null,
      "grid_column": null,
      "grid_gap": null,
      "grid_row": null,
      "grid_template_areas": null,
      "grid_template_columns": null,
      "grid_template_rows": null,
      "height": null,
      "justify_content": null,
      "justify_items": null,
      "left": null,
      "margin": null,
      "max_height": null,
      "max_width": null,
      "min_height": null,
      "min_width": null,
      "object_fit": null,
      "object_position": null,
      "order": null,
      "overflow": null,
      "overflow_x": null,
      "overflow_y": null,
      "padding": null,
      "right": null,
      "top": null,
      "visibility": null,
      "width": null
     }
    },
    "ea22ab840d3e44eba22822bc4ecb1aab": {
     "model_module": "@jupyter-widgets/controls",
     "model_module_version": "1.5.0",
     "model_name": "ButtonModel",
     "state": {
      "_dom_classes": [],
      "_model_module": "@jupyter-widgets/controls",
      "_model_module_version": "1.5.0",
      "_model_name": "ButtonModel",
      "_view_count": null,
      "_view_module": "@jupyter-widgets/controls",
      "_view_module_version": "1.5.0",
      "_view_name": "ButtonView",
      "button_style": "",
      "description": "Add",
      "disabled": false,
      "icon": "check",
      "layout": "IPY_MODEL_d84c41be5cf749fe8128932a911a1a80",
      "style": "IPY_MODEL_2b4cbfe7c5a34502b05269977f681c9f",
      "tooltip": ""
     }
    },
    "f01f3095481a4243b928d0f39e082f36": {
     "model_module": "@jupyter-widgets/base",
     "model_module_version": "1.2.0",
     "model_name": "LayoutModel",
     "state": {
      "_model_module": "@jupyter-widgets/base",
      "_model_module_version": "1.2.0",
      "_model_name": "LayoutModel",
      "_view_count": null,
      "_view_module": "@jupyter-widgets/base",
      "_view_module_version": "1.2.0",
      "_view_name": "LayoutView",
      "align_content": null,
      "align_items": null,
      "align_self": null,
      "border": null,
      "bottom": null,
      "display": null,
      "flex": null,
      "flex_flow": null,
      "grid_area": null,
      "grid_auto_columns": null,
      "grid_auto_flow": null,
      "grid_auto_rows": null,
      "grid_column": null,
      "grid_gap": null,
      "grid_row": null,
      "grid_template_areas": null,
      "grid_template_columns": null,
      "grid_template_rows": null,
      "height": null,
      "justify_content": null,
      "justify_items": null,
      "left": null,
      "margin": null,
      "max_height": null,
      "max_width": null,
      "min_height": null,
      "min_width": null,
      "object_fit": null,
      "object_position": null,
      "order": null,
      "overflow": null,
      "overflow_x": null,
      "overflow_y": null,
      "padding": null,
      "right": null,
      "top": null,
      "visibility": null,
      "width": null
     }
    }
   }
  }
 },
 "nbformat": 4,
 "nbformat_minor": 1
}
